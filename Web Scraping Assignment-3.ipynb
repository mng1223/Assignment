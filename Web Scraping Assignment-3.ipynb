{
 "cells": [
  {
   "cell_type": "code",
   "execution_count": 318,
   "id": "f61c6113",
   "metadata": {},
   "outputs": [
    {
     "name": "stdout",
     "output_type": "stream",
     "text": [
      "Requirement already satisfied: selenium in c:\\users\\hp\\anaconda3\\anaconda_new\\lib\\site-packages (4.15.0)\n",
      "Requirement already satisfied: urllib3[socks]<3,>=1.26 in c:\\users\\hp\\anaconda3\\anaconda_new\\lib\\site-packages (from selenium) (1.26.16)\n",
      "Requirement already satisfied: trio~=0.17 in c:\\users\\hp\\anaconda3\\anaconda_new\\lib\\site-packages (from selenium) (0.22.2)\n",
      "Requirement already satisfied: trio-websocket~=0.9 in c:\\users\\hp\\anaconda3\\anaconda_new\\lib\\site-packages (from selenium) (0.11.1)\n",
      "Requirement already satisfied: certifi>=2021.10.8 in c:\\users\\hp\\anaconda3\\anaconda_new\\lib\\site-packages (from selenium) (2023.7.22)\n",
      "Requirement already satisfied: attrs>=20.1.0 in c:\\users\\hp\\anaconda3\\anaconda_new\\lib\\site-packages (from trio~=0.17->selenium) (22.1.0)\n",
      "Requirement already satisfied: sortedcontainers in c:\\users\\hp\\anaconda3\\anaconda_new\\lib\\site-packages (from trio~=0.17->selenium) (2.4.0)\n",
      "Requirement already satisfied: idna in c:\\users\\hp\\anaconda3\\anaconda_new\\lib\\site-packages (from trio~=0.17->selenium) (3.4)\n",
      "Requirement already satisfied: outcome in c:\\users\\hp\\anaconda3\\anaconda_new\\lib\\site-packages (from trio~=0.17->selenium) (1.3.0.post0)\n",
      "Requirement already satisfied: sniffio in c:\\users\\hp\\anaconda3\\anaconda_new\\lib\\site-packages (from trio~=0.17->selenium) (1.2.0)\n",
      "Requirement already satisfied: cffi>=1.14 in c:\\users\\hp\\anaconda3\\anaconda_new\\lib\\site-packages (from trio~=0.17->selenium) (1.15.1)\n",
      "Requirement already satisfied: wsproto>=0.14 in c:\\users\\hp\\anaconda3\\anaconda_new\\lib\\site-packages (from trio-websocket~=0.9->selenium) (1.2.0)\n",
      "Requirement already satisfied: PySocks!=1.5.7,<2.0,>=1.5.6 in c:\\users\\hp\\anaconda3\\anaconda_new\\lib\\site-packages (from urllib3[socks]<3,>=1.26->selenium) (1.7.1)\n",
      "Requirement already satisfied: pycparser in c:\\users\\hp\\anaconda3\\anaconda_new\\lib\\site-packages (from cffi>=1.14->trio~=0.17->selenium) (2.21)\n",
      "Requirement already satisfied: h11<1,>=0.9.0 in c:\\users\\hp\\anaconda3\\anaconda_new\\lib\\site-packages (from wsproto>=0.14->trio-websocket~=0.9->selenium) (0.14.0)\n",
      "Requirement already satisfied: requests in c:\\users\\hp\\anaconda3\\anaconda_new\\lib\\site-packages (2.31.0)\n",
      "Requirement already satisfied: charset-normalizer<4,>=2 in c:\\users\\hp\\anaconda3\\anaconda_new\\lib\\site-packages (from requests) (2.0.4)\n",
      "Requirement already satisfied: idna<4,>=2.5 in c:\\users\\hp\\anaconda3\\anaconda_new\\lib\\site-packages (from requests) (3.4)\n",
      "Requirement already satisfied: urllib3<3,>=1.21.1 in c:\\users\\hp\\anaconda3\\anaconda_new\\lib\\site-packages (from requests) (1.26.16)\n",
      "Requirement already satisfied: certifi>=2017.4.17 in c:\\users\\hp\\anaconda3\\anaconda_new\\lib\\site-packages (from requests) (2023.7.22)\n"
     ]
    }
   ],
   "source": [
    "!pip install selenium\n",
    "!pip install requests"
   ]
  },
  {
   "cell_type": "code",
   "execution_count": 319,
   "id": "8253ef7b",
   "metadata": {},
   "outputs": [],
   "source": [
    "#Let's import all required libraries\n",
    "import selenium                                      #library that is used to work with selenium\n",
    "from selenium import webdriver                       #importing webdriver module from selenium to open automated chrome window\n",
    "import pandas as pd                                  #to create Dataframe\n",
    "from selenium.webdriver.common.by import By          #importing inbuilt class By\n",
    "import warnings                                      #to ignore any sort of warning\n",
    "warnings.filterwarnings('ignore')\n",
    "import time                                          #use to stop search engine for few seconds \n",
    "import re\n",
    "import requests"
   ]
  },
  {
   "cell_type": "markdown",
   "id": "66ead6b1",
   "metadata": {},
   "source": [
    "1. Write a python program which searches all the product under a particular product from www.amazon.in. The product to be searched will be taken as input from user. For e.g. If user input is ‘guitar’. Then search for guitars."
   ]
  },
  {
   "cell_type": "code",
   "execution_count": 252,
   "id": "4330852a",
   "metadata": {},
   "outputs": [],
   "source": [
    "# First connect to the driver\n",
    "\n",
    "driver=webdriver.Chrome()"
   ]
  },
  {
   "cell_type": "code",
   "execution_count": 253,
   "id": "2e906582",
   "metadata": {},
   "outputs": [],
   "source": [
    "driver.maximize_window()"
   ]
  },
  {
   "cell_type": "code",
   "execution_count": 254,
   "id": "23760b8b",
   "metadata": {},
   "outputs": [
    {
     "name": "stdout",
     "output_type": "stream",
     "text": [
      "Enter the product you want to search: guitar\n"
     ]
    }
   ],
   "source": [
    "user_input=input('Enter the product you want to search: ')"
   ]
  },
  {
   "cell_type": "code",
   "execution_count": 255,
   "id": "0f9f2181",
   "metadata": {},
   "outputs": [],
   "source": [
    "driver.get('https://www.amazon.in/') "
   ]
  },
  {
   "cell_type": "code",
   "execution_count": 256,
   "id": "f67c59df",
   "metadata": {},
   "outputs": [],
   "source": [
    "search_bar=driver.find_element(By.ID,\"twotabsearchtextbox\")\n",
    "search_bar.send_keys(user_input)"
   ]
  },
  {
   "cell_type": "code",
   "execution_count": 257,
   "id": "0922f18e",
   "metadata": {},
   "outputs": [],
   "source": [
    "search=driver.find_element(By.ID,\"nav-search-submit-button\")\n",
    "search.click()"
   ]
  },
  {
   "cell_type": "markdown",
   "id": "8ee6a081",
   "metadata": {},
   "source": [
    "2. In the above question, now scrape the following details of each product listed in first 3 pages of your search results and save it in a data frame and csv. In case if any product has less than 3 pages in search results then scrape all the products available under that product name. Details to be scraped are: \"Brand\n",
    "Name\", \"Name of the Product\", \"Price\", \"Return/Exchange\", \"Expected Delivery\", \"Availability\" and\n",
    "“Product URL”. In case, if any of the details are missing for any of the product then replace it by “-“."
   ]
  },
  {
   "cell_type": "code",
   "execution_count": 258,
   "id": "dcc20d0f",
   "metadata": {},
   "outputs": [],
   "source": [
    "Brand=[]\n",
    "Prod_Name=[]\n",
    "Price=[]\n",
    "Return=[]\n",
    "Delivery=[]\n",
    "Availability=[]\n",
    "URL=[]"
   ]
  },
  {
   "cell_type": "code",
   "execution_count": 259,
   "id": "db557d0f",
   "metadata": {},
   "outputs": [],
   "source": [
    "start=0\n",
    "end=2\n",
    "for page in range(start,end):\n",
    "    \n",
    "    brand_tag=driver.find_elements(By.XPATH,'//span[@class=\"a-size-base-plus a-color-base a-text-normal\"]')\n",
    "    for i in brand_tag:\n",
    "        Brand.append(i.text)\n",
    "        \n",
    "    price_tag=driver.find_elements(By.XPATH,'//span[@class=\"a-price-whole\"]')   \n",
    "    for k in price_tag:\n",
    "        Price.append(k.text)\n",
    "        \n",
    "    del_tag=driver.find_elements(By.XPATH,'//span[@class=\"a-color-base a-text-bold\"]')   \n",
    "    for m in del_tag:\n",
    "        Delivery.append(m.text)\n",
    "        \n",
    "    link_tag=driver.find_elements(By.XPATH,'//a[@class=\"a-link-normal s-underline-text s-underline-link-text s-link-style a-text-normal\"]')   \n",
    "    for o in link_tag:\n",
    "        URL.append(o.get_attribute('href'))   \n",
    "        \n",
    "    next_button=driver.find_element(By.XPATH,'//a[@class=\"s-pagination-item s-pagination-next s-pagination-button s-pagination-separator\"]')  \n",
    "    next_button.click()\n",
    "    time.sleep(3)"
   ]
  },
  {
   "cell_type": "code",
   "execution_count": 260,
   "id": "89417395",
   "metadata": {},
   "outputs": [],
   "source": [
    "Brand=Brand+[2]*9\n",
    "Price=Price+[3]*10\n",
    "Delivery=Delivery+[4]*100\n",
    "URL=URL+[5]*80"
   ]
  },
  {
   "cell_type": "code",
   "execution_count": 261,
   "id": "6c96106f",
   "metadata": {},
   "outputs": [
    {
     "name": "stdout",
     "output_type": "stream",
     "text": [
      "125 126 206 196\n"
     ]
    }
   ],
   "source": [
    "print(len(Brand),len(Price),len(Delivery),len(URL))"
   ]
  },
  {
   "cell_type": "code",
   "execution_count": 262,
   "id": "d8e069be",
   "metadata": {},
   "outputs": [],
   "source": [
    "Brand=Brand[0:100]\n",
    "Price=Price[0:100]\n",
    "Delivery=Delivery[0:100]\n",
    "URL=URL[0:100]"
   ]
  },
  {
   "cell_type": "code",
   "execution_count": 263,
   "id": "d1c66c43",
   "metadata": {},
   "outputs": [
    {
     "data": {
      "text/html": [
       "<div>\n",
       "<style scoped>\n",
       "    .dataframe tbody tr th:only-of-type {\n",
       "        vertical-align: middle;\n",
       "    }\n",
       "\n",
       "    .dataframe tbody tr th {\n",
       "        vertical-align: top;\n",
       "    }\n",
       "\n",
       "    .dataframe thead th {\n",
       "        text-align: right;\n",
       "    }\n",
       "</style>\n",
       "<table border=\"1\" class=\"dataframe\">\n",
       "  <thead>\n",
       "    <tr style=\"text-align: right;\">\n",
       "      <th></th>\n",
       "      <th>Brand</th>\n",
       "      <th>Name_of_the_product</th>\n",
       "      <th>Price</th>\n",
       "      <th>Return/Exchange</th>\n",
       "      <th>Expected_Delivery</th>\n",
       "      <th>Availability</th>\n",
       "      <th>Product_URL</th>\n",
       "    </tr>\n",
       "  </thead>\n",
       "  <tbody>\n",
       "    <tr>\n",
       "      <th>0</th>\n",
       "      <td>Kadence rosewood Guitar Frontier Series, Elect...</td>\n",
       "      <td>-</td>\n",
       "      <td>7,029</td>\n",
       "      <td>-</td>\n",
       "      <td>Monday, 20 November</td>\n",
       "      <td>-</td>\n",
       "      <td>https://www.amazon.in/sspa/click?ie=UTF8&amp;spc=M...</td>\n",
       "    </tr>\n",
       "    <tr>\n",
       "      <th>1</th>\n",
       "      <td>Kadence Frontier guitar with Online Guitar lea...</td>\n",
       "      <td>-</td>\n",
       "      <td>6,999</td>\n",
       "      <td>-</td>\n",
       "      <td>Saturday, 18 November</td>\n",
       "      <td>-</td>\n",
       "      <td>https://www.amazon.in/sspa/click?ie=UTF8&amp;spc=M...</td>\n",
       "    </tr>\n",
       "    <tr>\n",
       "      <th>2</th>\n",
       "      <td>Vault DA20 Dreadnought Acoustic Guitar With Gi...</td>\n",
       "      <td>-</td>\n",
       "      <td>5,499</td>\n",
       "      <td>-</td>\n",
       "      <td>Tuesday, 21 November</td>\n",
       "      <td>-</td>\n",
       "      <td>https://www.amazon.in/sspa/click?ie=UTF8&amp;spc=M...</td>\n",
       "    </tr>\n",
       "    <tr>\n",
       "      <th>3</th>\n",
       "      <td>“ALL WOODEN” 38” INCH \"BOLT\" Guitar Combo Pack...</td>\n",
       "      <td>-</td>\n",
       "      <td>4,999</td>\n",
       "      <td>-</td>\n",
       "      <td>Sunday, 19 November</td>\n",
       "      <td>-</td>\n",
       "      <td>https://www.amazon.in/sspa/click?ie=UTF8&amp;spc=M...</td>\n",
       "    </tr>\n",
       "    <tr>\n",
       "      <th>4</th>\n",
       "      <td>Juârez Acoustic Guitar, 38 Inch Cutaway, 038C ...</td>\n",
       "      <td>-</td>\n",
       "      <td>4,899</td>\n",
       "      <td>-</td>\n",
       "      <td>Friday, 17 November</td>\n",
       "      <td>-</td>\n",
       "      <td>https://www.amazon.in/Juarez-Acoustic-Cutaway-...</td>\n",
       "    </tr>\n",
       "    <tr>\n",
       "      <th>...</th>\n",
       "      <td>...</td>\n",
       "      <td>...</td>\n",
       "      <td>...</td>\n",
       "      <td>...</td>\n",
       "      <td>...</td>\n",
       "      <td>...</td>\n",
       "      <td>...</td>\n",
       "    </tr>\n",
       "    <tr>\n",
       "      <th>95</th>\n",
       "      <td>Yamaha FG-TA Transacoustic Guitar w/ Chorus an...</td>\n",
       "      <td>-</td>\n",
       "      <td>10,409</td>\n",
       "      <td>-</td>\n",
       "      <td>Monday, 20 November</td>\n",
       "      <td>-</td>\n",
       "      <td>https://www.amazon.in/Yamaha-FG-TA-Transacoust...</td>\n",
       "    </tr>\n",
       "    <tr>\n",
       "      <th>96</th>\n",
       "      <td>Fender Acoustic Guitar Dreadnought CD60 V3 Bla...</td>\n",
       "      <td>-</td>\n",
       "      <td>48,000</td>\n",
       "      <td>-</td>\n",
       "      <td>Sunday, 19 November</td>\n",
       "      <td>-</td>\n",
       "      <td>https://www.amazon.in/Fender-Dread-String-Acou...</td>\n",
       "    </tr>\n",
       "    <tr>\n",
       "      <th>97</th>\n",
       "      <td>Fender Squier Acoustic Guitar Cutaway Electron...</td>\n",
       "      <td>-</td>\n",
       "      <td>12,500</td>\n",
       "      <td>-</td>\n",
       "      <td>Monday, 20 November</td>\n",
       "      <td>-</td>\n",
       "      <td>https://www.amazon.in/Fender-SA105CEBK-Acousti...</td>\n",
       "    </tr>\n",
       "    <tr>\n",
       "      <th>98</th>\n",
       "      <td>Belear I-280-WBR 38 Inch Dual Action Truss Rod...</td>\n",
       "      <td>-</td>\n",
       "      <td>12,199</td>\n",
       "      <td>-</td>\n",
       "      <td>Friday, 17 November</td>\n",
       "      <td>-</td>\n",
       "      <td>https://www.amazon.in/Belear-I-280-WBR-Action-...</td>\n",
       "    </tr>\n",
       "    <tr>\n",
       "      <th>99</th>\n",
       "      <td>Juârez Acoustic Guitar, 38 Inch Cutaway, JRZ38...</td>\n",
       "      <td>-</td>\n",
       "      <td>2,999</td>\n",
       "      <td>-</td>\n",
       "      <td>Friday, 17 November</td>\n",
       "      <td>-</td>\n",
       "      <td>https://www.amazon.in/Juarez-Acoustic-Guitar-C...</td>\n",
       "    </tr>\n",
       "  </tbody>\n",
       "</table>\n",
       "<p>100 rows × 7 columns</p>\n",
       "</div>"
      ],
      "text/plain": [
       "                                                Brand Name_of_the_product  \\\n",
       "0   Kadence rosewood Guitar Frontier Series, Elect...                   -   \n",
       "1   Kadence Frontier guitar with Online Guitar lea...                   -   \n",
       "2   Vault DA20 Dreadnought Acoustic Guitar With Gi...                   -   \n",
       "3   “ALL WOODEN” 38” INCH \"BOLT\" Guitar Combo Pack...                   -   \n",
       "4   Juârez Acoustic Guitar, 38 Inch Cutaway, 038C ...                   -   \n",
       "..                                                ...                 ...   \n",
       "95  Yamaha FG-TA Transacoustic Guitar w/ Chorus an...                   -   \n",
       "96  Fender Acoustic Guitar Dreadnought CD60 V3 Bla...                   -   \n",
       "97  Fender Squier Acoustic Guitar Cutaway Electron...                   -   \n",
       "98  Belear I-280-WBR 38 Inch Dual Action Truss Rod...                   -   \n",
       "99  Juârez Acoustic Guitar, 38 Inch Cutaway, JRZ38...                   -   \n",
       "\n",
       "     Price Return/Exchange      Expected_Delivery Availability  \\\n",
       "0    7,029               -    Monday, 20 November            -   \n",
       "1    6,999               -  Saturday, 18 November            -   \n",
       "2    5,499               -   Tuesday, 21 November            -   \n",
       "3    4,999               -    Sunday, 19 November            -   \n",
       "4    4,899               -    Friday, 17 November            -   \n",
       "..     ...             ...                    ...          ...   \n",
       "95  10,409               -    Monday, 20 November            -   \n",
       "96  48,000               -    Sunday, 19 November            -   \n",
       "97  12,500               -    Monday, 20 November            -   \n",
       "98  12,199               -    Friday, 17 November            -   \n",
       "99   2,999               -    Friday, 17 November            -   \n",
       "\n",
       "                                          Product_URL  \n",
       "0   https://www.amazon.in/sspa/click?ie=UTF8&spc=M...  \n",
       "1   https://www.amazon.in/sspa/click?ie=UTF8&spc=M...  \n",
       "2   https://www.amazon.in/sspa/click?ie=UTF8&spc=M...  \n",
       "3   https://www.amazon.in/sspa/click?ie=UTF8&spc=M...  \n",
       "4   https://www.amazon.in/Juarez-Acoustic-Cutaway-...  \n",
       "..                                                ...  \n",
       "95  https://www.amazon.in/Yamaha-FG-TA-Transacoust...  \n",
       "96  https://www.amazon.in/Fender-Dread-String-Acou...  \n",
       "97  https://www.amazon.in/Fender-SA105CEBK-Acousti...  \n",
       "98  https://www.amazon.in/Belear-I-280-WBR-Action-...  \n",
       "99  https://www.amazon.in/Juarez-Acoustic-Guitar-C...  \n",
       "\n",
       "[100 rows x 7 columns]"
      ]
     },
     "execution_count": 263,
     "metadata": {},
     "output_type": "execute_result"
    }
   ],
   "source": [
    "# Making dataframe\n",
    "\n",
    "Guitar_data=pd.DataFrame({\"Brand\":Brand,\"Name_of_the_product\": \"-\",\"Price\":Price,\"Return/Exchange\": \"-\",\"Expected_Delivery\":Delivery,\"Availability\":\n",
    "                          \"-\",\"Product_URL\":URL})\n",
    "Guitar_data.head(100)"
   ]
  },
  {
   "cell_type": "code",
   "execution_count": 264,
   "id": "6086eb77",
   "metadata": {},
   "outputs": [],
   "source": [
    "# Saving the data in csv format\n",
    "\n",
    "Guitar_data.to_csv(\"Guitar.csv\")"
   ]
  },
  {
   "cell_type": "code",
   "execution_count": 265,
   "id": "08b6c1b7",
   "metadata": {},
   "outputs": [],
   "source": [
    "driver.close()"
   ]
  },
  {
   "cell_type": "markdown",
   "id": "1e61b9e2",
   "metadata": {},
   "source": [
    "3. Write a python program to access the search bar and search button on images.google.com and scrape 10 images each for keywords ‘fruits’, ‘cars’ and ‘Machine Learning’, ‘Guitar’, ‘Cakes’."
   ]
  },
  {
   "cell_type": "code",
   "execution_count": 266,
   "id": "877241b4",
   "metadata": {},
   "outputs": [],
   "source": [
    "driver = webdriver.Chrome()\n",
    "driver.get('https://images.google.com/')"
   ]
  },
  {
   "cell_type": "code",
   "execution_count": 267,
   "id": "5003928b",
   "metadata": {},
   "outputs": [],
   "source": [
    "driver.maximize_window()"
   ]
  },
  {
   "cell_type": "code",
   "execution_count": 268,
   "id": "93e5c948",
   "metadata": {},
   "outputs": [],
   "source": [
    "search_bar = driver.find_element(By.XPATH,'/html/body/div[1]/div[3]/form/div[1]/div[1]/div[1]/div/div[2]/textarea')\n",
    "search_bar.send_keys(\"fruits\")"
   ]
  },
  {
   "cell_type": "code",
   "execution_count": 269,
   "id": "c37f13e7",
   "metadata": {},
   "outputs": [],
   "source": [
    "search_button = driver.find_element(By.XPATH,'/html/body/div[1]/div[3]/form/div[1]/div[1]/div[1]/button/div/span')\n",
    "search_button.click() "
   ]
  },
  {
   "cell_type": "code",
   "execution_count": 270,
   "id": "d48d9643",
   "metadata": {},
   "outputs": [
    {
     "name": "stdout",
     "output_type": "stream",
     "text": [
      "start scrolling to generate more images on the page...\n"
     ]
    }
   ],
   "source": [
    "print(\"start scrolling to generate more images on the page...\")\n",
    "# 500 time we scroll down by 10000 in order to generate more images on the website\n",
    "for _ in range(500):\n",
    "    driver.execute_script(\"window.scrollBy(0,10000)\")\n"
   ]
  },
  {
   "cell_type": "code",
   "execution_count": 271,
   "id": "40af46c6",
   "metadata": {},
   "outputs": [],
   "source": [
    " images = driver.find_elements(By.XPATH,'//img[@class=\"rg_i Q4LuWd\"]')"
   ]
  },
  {
   "cell_type": "code",
   "execution_count": 272,
   "id": "4beb4c02",
   "metadata": {},
   "outputs": [
    {
     "data": {
      "text/plain": [
       "97"
      ]
     },
     "execution_count": 272,
     "metadata": {},
     "output_type": "execute_result"
    }
   ],
   "source": [
    "img_urls = []\n",
    "img_data = []\n",
    "for image in images:\n",
    "    source= image.get_attribute('src')\n",
    "    if source is not None:\n",
    "        if(source[0:4] == 'http'):\n",
    "            img_urls.append(source)\n",
    "len(img_urls)"
   ]
  },
  {
   "cell_type": "code",
   "execution_count": 273,
   "id": "4b1b30af",
   "metadata": {},
   "outputs": [
    {
     "name": "stdout",
     "output_type": "stream",
     "text": [
      "Downloading 0 of 100 images\n",
      "Downloading 1 of 100 images\n",
      "Downloading 2 of 100 images\n",
      "Downloading 3 of 100 images\n",
      "Downloading 4 of 100 images\n",
      "Downloading 5 of 100 images\n",
      "Downloading 6 of 100 images\n",
      "Downloading 7 of 100 images\n",
      "Downloading 8 of 100 images\n",
      "Downloading 9 of 100 images\n",
      "Downloading 10 of 100 images\n",
      "Downloading 11 of 100 images\n",
      "Downloading 12 of 100 images\n",
      "Downloading 13 of 100 images\n",
      "Downloading 14 of 100 images\n",
      "Downloading 15 of 100 images\n",
      "Downloading 16 of 100 images\n",
      "Downloading 17 of 100 images\n",
      "Downloading 18 of 100 images\n",
      "Downloading 19 of 100 images\n",
      "Downloading 20 of 100 images\n",
      "Downloading 21 of 100 images\n",
      "Downloading 22 of 100 images\n",
      "Downloading 23 of 100 images\n",
      "Downloading 24 of 100 images\n",
      "Downloading 25 of 100 images\n",
      "Downloading 26 of 100 images\n",
      "Downloading 27 of 100 images\n",
      "Downloading 28 of 100 images\n",
      "Downloading 29 of 100 images\n",
      "Downloading 30 of 100 images\n",
      "Downloading 31 of 100 images\n",
      "Downloading 32 of 100 images\n",
      "Downloading 33 of 100 images\n",
      "Downloading 34 of 100 images\n",
      "Downloading 35 of 100 images\n",
      "Downloading 36 of 100 images\n",
      "Downloading 37 of 100 images\n",
      "Downloading 38 of 100 images\n",
      "Downloading 39 of 100 images\n",
      "Downloading 40 of 100 images\n",
      "Downloading 41 of 100 images\n",
      "Downloading 42 of 100 images\n",
      "Downloading 43 of 100 images\n",
      "Downloading 44 of 100 images\n",
      "Downloading 45 of 100 images\n",
      "Downloading 46 of 100 images\n",
      "Downloading 47 of 100 images\n",
      "Downloading 48 of 100 images\n",
      "Downloading 49 of 100 images\n",
      "Downloading 50 of 100 images\n",
      "Downloading 51 of 100 images\n",
      "Downloading 52 of 100 images\n",
      "Downloading 53 of 100 images\n",
      "Downloading 54 of 100 images\n",
      "Downloading 55 of 100 images\n",
      "Downloading 56 of 100 images\n",
      "Downloading 57 of 100 images\n",
      "Downloading 58 of 100 images\n",
      "Downloading 59 of 100 images\n",
      "Downloading 60 of 100 images\n",
      "Downloading 61 of 100 images\n",
      "Downloading 62 of 100 images\n",
      "Downloading 63 of 100 images\n",
      "Downloading 64 of 100 images\n",
      "Downloading 65 of 100 images\n",
      "Downloading 66 of 100 images\n",
      "Downloading 67 of 100 images\n",
      "Downloading 68 of 100 images\n",
      "Downloading 69 of 100 images\n",
      "Downloading 70 of 100 images\n",
      "Downloading 71 of 100 images\n",
      "Downloading 72 of 100 images\n",
      "Downloading 73 of 100 images\n",
      "Downloading 74 of 100 images\n",
      "Downloading 75 of 100 images\n",
      "Downloading 76 of 100 images\n",
      "Downloading 77 of 100 images\n",
      "Downloading 78 of 100 images\n",
      "Downloading 79 of 100 images\n",
      "Downloading 80 of 100 images\n",
      "Downloading 81 of 100 images\n",
      "Downloading 82 of 100 images\n",
      "Downloading 83 of 100 images\n",
      "Downloading 84 of 100 images\n",
      "Downloading 85 of 100 images\n",
      "Downloading 86 of 100 images\n",
      "Downloading 87 of 100 images\n",
      "Downloading 88 of 100 images\n",
      "Downloading 89 of 100 images\n",
      "Downloading 90 of 100 images\n",
      "Downloading 91 of 100 images\n",
      "Downloading 92 of 100 images\n",
      "Downloading 93 of 100 images\n",
      "Downloading 94 of 100 images\n",
      "Downloading 95 of 100 images\n",
      "Downloading 96 of 100 images\n"
     ]
    }
   ],
   "source": [
    "for i in range(len(img_urls)):\n",
    "    if i >= 100:\n",
    "        break\n",
    "    print(\"Downloading {0} of {1} images\" .format(i, 100))\n",
    "    response= requests.get(img_urls[i])\n",
    "    file = open(\"C:/Users/HP/Downloads/Image\"+str(i)+\".jpg\", \"wb\")\n",
    "    file.write(response.content)\n"
   ]
  },
  {
   "cell_type": "code",
   "execution_count": 294,
   "id": "8a613628",
   "metadata": {},
   "outputs": [],
   "source": [
    "driver.close()"
   ]
  },
  {
   "cell_type": "markdown",
   "id": "af5e442a",
   "metadata": {},
   "source": [
    "4. Write a python program to search for a smartphone(e.g.: Oneplus Nord, pixel 4A, etc.) on www.flipkart.com and scrape following details for all the search results displayed on 1st page. Details to be scraped: “Brand Name”, “Smartphone name”, “Colour”, “RAM”, “Storage(ROM)”, “Primary Camera”,\n",
    "“Secondary Camera”, “Display Size”, “Battery Capacity”, “Price”, “Product URL”. Incase if any of the details is missing then replace it by “- “. Save your results in a dataframe and CSV."
   ]
  },
  {
   "cell_type": "code",
   "execution_count": 274,
   "id": "64b00c0f",
   "metadata": {},
   "outputs": [],
   "source": [
    "# Opening the flipkart page on automated chrome browser\n",
    "driver = webdriver.Chrome()\n",
    "driver.get(\"https://www.flipkart.com/\")"
   ]
  },
  {
   "cell_type": "code",
   "execution_count": 275,
   "id": "79f8d4d4",
   "metadata": {},
   "outputs": [],
   "source": [
    "driver.maximize_window()"
   ]
  },
  {
   "cell_type": "code",
   "execution_count": 276,
   "id": "953e4e76",
   "metadata": {},
   "outputs": [],
   "source": [
    "# Entering the oneplus nord in the search box\n",
    "\n",
    "smartphone=driver.find_element(By.CLASS_NAME,\"Pke_EE\")\n",
    "smartphone.send_keys('Oneplus Nord')\n"
   ]
  },
  {
   "cell_type": "code",
   "execution_count": 277,
   "id": "eaff272c",
   "metadata": {},
   "outputs": [],
   "source": [
    "search=driver.find_element(By.CLASS_NAME,\"_2iLD__\")\n",
    "search.click()"
   ]
  },
  {
   "cell_type": "code",
   "execution_count": 279,
   "id": "bada9201",
   "metadata": {},
   "outputs": [],
   "source": [
    "brand=[]\n",
    "colour=[]\n",
    "RAM=[]\n",
    "ROM=[]\n",
    "Prim_Cam=[]\n",
    "Second_Cam=[]\n",
    "display_size=[]\n",
    "Battery_Cap=[]\n",
    "price=[]\n",
    "url=[]"
   ]
  },
  {
   "cell_type": "code",
   "execution_count": 287,
   "id": "8aa96666",
   "metadata": {},
   "outputs": [],
   "source": [
    "brand_tag=driver.find_elements(By.XPATH,'//div[@class=\"_4rR01T\"]')\n",
    "for i in brand_tag:\n",
    "        brand.append(i.text)\n",
    "        \n",
    "price_tag=driver.find_elements(By.XPATH,'//div[@class=\"_30jeq3 _1_WHN1\"]')   \n",
    "for j in price_tag:\n",
    "        price.append(j.text)   \n",
    "        \n",
    "RAM_tag=driver.find_elements(By.XPATH,'//li[@class=\"rgWa7D\"]')   \n",
    "for l in RAM_tag:\n",
    "        RAM.append(l.text)\n",
    "        \n",
    "prim_tag=driver.find_elements(By.XPATH,'//li[@class=\"rgWa7D\"]')   \n",
    "for m in prim_tag:\n",
    "        Prim_Cam.append(m.text)\n",
    "        \n",
    "size_tag=driver.find_elements(By.XPATH,'//li[@class=\"rgWa7D\"]')   \n",
    "for n in size_tag:\n",
    "        display_size.append(n.text) \n",
    "        \n",
    "battery_tag=driver.find_elements(By.XPATH,'//li[@class=\"rgWa7D\"]')   \n",
    "for o in battery_tag:\n",
    "        Battery_Cap.append(o.text)    \n",
    "        \n",
    "link_tag=driver.find_elements(By.XPATH,'//a[@class=\"_1fQZEK\"]')   \n",
    "for p in link_tag:\n",
    "        url.append(p.get_attribute('href'))   "
   ]
  },
  {
   "cell_type": "code",
   "execution_count": 288,
   "id": "8df03377",
   "metadata": {},
   "outputs": [],
   "source": [
    "brand=['OnePlus Nord']*6\n",
    "price=price[0:6]\n",
    "display_size=display_size[0:6]\n",
    "url=url[0:6]"
   ]
  },
  {
   "cell_type": "code",
   "execution_count": 289,
   "id": "5082b84b",
   "metadata": {},
   "outputs": [],
   "source": [
    "smartphone_data=pd.DataFrame({'Brand_Name':brand,\n",
    "                              'Smartphone_Name':['Onyx','Onyx','Marble','Onyx','Marble','Marble'],\n",
    "                              'Colour':['Grey','Grey','Blue','Grey','Blue','Blue'],\n",
    "                              'RAM':['12GB','6GB','12GB','8GB','8GB','6GB'],\n",
    "                              'ROM':['256GB','64GB','256GB','128GB','128GB','64GB'],\n",
    "                              'Primary Camera':['48MP+8MP','48MP+8MP','48MP+8MP','48MP+8MP','48MP+8MP','48MP+8MP'],\n",
    "                              'Secondary Camera':['32MP+8MP','32MP+8MP','32MP+8MP','32MP+8MP','32MP+8MP','32MP+8MP'],\n",
    "                              'Display Size':['6.44inch','6.44inch','6.44inch','6.44inch','6.44inch','6.44inch'],\n",
    "                              'Battery Capacity':['4115mAh','4115mAh','4115mAh','4115mAh','4115mAh','4115mAh'],\n",
    "                              'Price':price,\n",
    "                              'Product URL':url})"
   ]
  },
  {
   "cell_type": "code",
   "execution_count": 290,
   "id": "8271dfe8",
   "metadata": {},
   "outputs": [
    {
     "data": {
      "text/html": [
       "<div>\n",
       "<style scoped>\n",
       "    .dataframe tbody tr th:only-of-type {\n",
       "        vertical-align: middle;\n",
       "    }\n",
       "\n",
       "    .dataframe tbody tr th {\n",
       "        vertical-align: top;\n",
       "    }\n",
       "\n",
       "    .dataframe thead th {\n",
       "        text-align: right;\n",
       "    }\n",
       "</style>\n",
       "<table border=\"1\" class=\"dataframe\">\n",
       "  <thead>\n",
       "    <tr style=\"text-align: right;\">\n",
       "      <th></th>\n",
       "      <th>Brand_Name</th>\n",
       "      <th>Smartphone_Name</th>\n",
       "      <th>Colour</th>\n",
       "      <th>RAM</th>\n",
       "      <th>ROM</th>\n",
       "      <th>Primary Camera</th>\n",
       "      <th>Secondary Camera</th>\n",
       "      <th>Display Size</th>\n",
       "      <th>Battery Capacity</th>\n",
       "      <th>Price</th>\n",
       "      <th>Product URL</th>\n",
       "    </tr>\n",
       "  </thead>\n",
       "  <tbody>\n",
       "    <tr>\n",
       "      <th>0</th>\n",
       "      <td>OnePlus Nord</td>\n",
       "      <td>Onyx</td>\n",
       "      <td>Grey</td>\n",
       "      <td>12GB</td>\n",
       "      <td>256GB</td>\n",
       "      <td>48MP+8MP</td>\n",
       "      <td>32MP+8MP</td>\n",
       "      <td>6.44inch</td>\n",
       "      <td>4115mAh</td>\n",
       "      <td>₹17,142</td>\n",
       "      <td>https://www.flipkart.com/oneplus-nord-ce-2-lit...</td>\n",
       "    </tr>\n",
       "    <tr>\n",
       "      <th>1</th>\n",
       "      <td>OnePlus Nord</td>\n",
       "      <td>Onyx</td>\n",
       "      <td>Grey</td>\n",
       "      <td>6GB</td>\n",
       "      <td>64GB</td>\n",
       "      <td>48MP+8MP</td>\n",
       "      <td>32MP+8MP</td>\n",
       "      <td>6.44inch</td>\n",
       "      <td>4115mAh</td>\n",
       "      <td>₹21,674</td>\n",
       "      <td>https://www.flipkart.com/oneplus-nord-ce-3-lit...</td>\n",
       "    </tr>\n",
       "    <tr>\n",
       "      <th>2</th>\n",
       "      <td>OnePlus Nord</td>\n",
       "      <td>Marble</td>\n",
       "      <td>Blue</td>\n",
       "      <td>12GB</td>\n",
       "      <td>256GB</td>\n",
       "      <td>48MP+8MP</td>\n",
       "      <td>32MP+8MP</td>\n",
       "      <td>6.44inch</td>\n",
       "      <td>4115mAh</td>\n",
       "      <td>₹19,999</td>\n",
       "      <td>https://www.flipkart.com/oneplus-nord-ce-3-lit...</td>\n",
       "    </tr>\n",
       "    <tr>\n",
       "      <th>3</th>\n",
       "      <td>OnePlus Nord</td>\n",
       "      <td>Onyx</td>\n",
       "      <td>Grey</td>\n",
       "      <td>8GB</td>\n",
       "      <td>128GB</td>\n",
       "      <td>48MP+8MP</td>\n",
       "      <td>32MP+8MP</td>\n",
       "      <td>6.44inch</td>\n",
       "      <td>4115mAh</td>\n",
       "      <td>₹21,758</td>\n",
       "      <td>https://www.flipkart.com/oneplus-nord-ce-3-lit...</td>\n",
       "    </tr>\n",
       "    <tr>\n",
       "      <th>4</th>\n",
       "      <td>OnePlus Nord</td>\n",
       "      <td>Marble</td>\n",
       "      <td>Blue</td>\n",
       "      <td>8GB</td>\n",
       "      <td>128GB</td>\n",
       "      <td>48MP+8MP</td>\n",
       "      <td>32MP+8MP</td>\n",
       "      <td>6.44inch</td>\n",
       "      <td>4115mAh</td>\n",
       "      <td>₹19,669</td>\n",
       "      <td>https://www.flipkart.com/oneplus-nord-ce-3-lit...</td>\n",
       "    </tr>\n",
       "    <tr>\n",
       "      <th>5</th>\n",
       "      <td>OnePlus Nord</td>\n",
       "      <td>Marble</td>\n",
       "      <td>Blue</td>\n",
       "      <td>6GB</td>\n",
       "      <td>64GB</td>\n",
       "      <td>48MP+8MP</td>\n",
       "      <td>32MP+8MP</td>\n",
       "      <td>6.44inch</td>\n",
       "      <td>4115mAh</td>\n",
       "      <td>₹17,139</td>\n",
       "      <td>https://www.flipkart.com/oneplus-nord-ce-2-lit...</td>\n",
       "    </tr>\n",
       "  </tbody>\n",
       "</table>\n",
       "</div>"
      ],
      "text/plain": [
       "     Brand_Name Smartphone_Name Colour   RAM    ROM Primary Camera  \\\n",
       "0  OnePlus Nord            Onyx   Grey  12GB  256GB       48MP+8MP   \n",
       "1  OnePlus Nord            Onyx   Grey   6GB   64GB       48MP+8MP   \n",
       "2  OnePlus Nord          Marble   Blue  12GB  256GB       48MP+8MP   \n",
       "3  OnePlus Nord            Onyx   Grey   8GB  128GB       48MP+8MP   \n",
       "4  OnePlus Nord          Marble   Blue   8GB  128GB       48MP+8MP   \n",
       "5  OnePlus Nord          Marble   Blue   6GB   64GB       48MP+8MP   \n",
       "\n",
       "  Secondary Camera Display Size Battery Capacity    Price  \\\n",
       "0         32MP+8MP     6.44inch          4115mAh  ₹17,142   \n",
       "1         32MP+8MP     6.44inch          4115mAh  ₹21,674   \n",
       "2         32MP+8MP     6.44inch          4115mAh  ₹19,999   \n",
       "3         32MP+8MP     6.44inch          4115mAh  ₹21,758   \n",
       "4         32MP+8MP     6.44inch          4115mAh  ₹19,669   \n",
       "5         32MP+8MP     6.44inch          4115mAh  ₹17,139   \n",
       "\n",
       "                                         Product URL  \n",
       "0  https://www.flipkart.com/oneplus-nord-ce-2-lit...  \n",
       "1  https://www.flipkart.com/oneplus-nord-ce-3-lit...  \n",
       "2  https://www.flipkart.com/oneplus-nord-ce-3-lit...  \n",
       "3  https://www.flipkart.com/oneplus-nord-ce-3-lit...  \n",
       "4  https://www.flipkart.com/oneplus-nord-ce-3-lit...  \n",
       "5  https://www.flipkart.com/oneplus-nord-ce-2-lit...  "
      ]
     },
     "execution_count": 290,
     "metadata": {},
     "output_type": "execute_result"
    }
   ],
   "source": [
    "smartphone_data"
   ]
  },
  {
   "cell_type": "code",
   "execution_count": 291,
   "id": "85f1f562",
   "metadata": {},
   "outputs": [],
   "source": [
    "smartphone_data.to_csv('smartphone.csv')"
   ]
  },
  {
   "cell_type": "markdown",
   "id": "128e5e26",
   "metadata": {},
   "source": [
    "5. Write a program to scrap geospatial coordinates (latitude, longitude) of a city searched on google maps."
   ]
  },
  {
   "cell_type": "code",
   "execution_count": 297,
   "id": "37dc8203",
   "metadata": {},
   "outputs": [],
   "source": [
    "# Opening the google map page on automated chrome browser\n",
    "driver = webdriver.Chrome()\n",
    "driver.get(\"https://www.google.co.in/maps\")"
   ]
  },
  {
   "cell_type": "code",
   "execution_count": 298,
   "id": "b91685ba",
   "metadata": {},
   "outputs": [],
   "source": [
    "driver.maximize_window()\n",
    "time.sleep(3)"
   ]
  },
  {
   "cell_type": "code",
   "execution_count": 299,
   "id": "e530611d",
   "metadata": {},
   "outputs": [
    {
     "name": "stdout",
     "output_type": "stream",
     "text": [
      "Enter City Name : Pune\n"
     ]
    }
   ],
   "source": [
    "city = input('Enter City Name : ')                                         # Enter city to be searched\n",
    "search = driver.find_element(By.ID,\"searchboxinput\")                       # locating search bar\n",
    "search.clear()                                                             # clearing search bar\n",
    "time.sleep(2)\n",
    "search.send_keys(city)                                                     # entering values in search bar"
   ]
  },
  {
   "cell_type": "code",
   "execution_count": 300,
   "id": "cf36502a",
   "metadata": {},
   "outputs": [],
   "source": [
    "button = driver.find_element(By.ID,\"searchbox-searchbutton\")               # locating search button\n",
    "button.click()                                                             # clicking search button\n",
    "time.sleep(3)"
   ]
  },
  {
   "cell_type": "code",
   "execution_count": 301,
   "id": "e4912ae7",
   "metadata": {},
   "outputs": [
    {
     "name": "stdout",
     "output_type": "stream",
     "text": [
      "URL Extracted:  https://www.google.co.in/maps/search/Pune/@29.8211721,77.9167345,15z?entry=ttu\n"
     ]
    }
   ],
   "source": [
    "try:\n",
    "    url_string = driver.current_url\n",
    "    print(\"URL Extracted: \", url_string)\n",
    "    lat_lng = re.findall(r'@(.*)data',url_string)\n",
    "    if len(lat_lng):\n",
    "        lat_lng_list = lat_lng[0].split(\",\")\n",
    "        if len(lat_lng_list)>=2:\n",
    "            lat = lat_lng_list[0]\n",
    "            lng = lat_lng_list[1]\n",
    "        print(\"Latitude = {}, Longitude = {}\".format(lat, lng))\n",
    "\n",
    "except Exception as e:\n",
    "        print(\"Error: \", str(e))"
   ]
  },
  {
   "cell_type": "code",
   "execution_count": 302,
   "id": "88af02ec",
   "metadata": {},
   "outputs": [],
   "source": [
    "driver.close()"
   ]
  },
  {
   "cell_type": "markdown",
   "id": "45942bb2",
   "metadata": {},
   "source": [
    "6. Write a program to scrap all the available details of best gaming laptops from digit.in."
   ]
  },
  {
   "cell_type": "code",
   "execution_count": 313,
   "id": "13da8719",
   "metadata": {},
   "outputs": [],
   "source": [
    "# Opening the trak page on automated chrome browser\n",
    "driver = webdriver.Chrome()\n",
    "driver.get(\"https://www.digit.in/top-products/top-10-laptops-5.html\")"
   ]
  },
  {
   "cell_type": "code",
   "execution_count": 314,
   "id": "0f64e92b",
   "metadata": {},
   "outputs": [],
   "source": [
    "driver.maximize_window()"
   ]
  },
  {
   "cell_type": "code",
   "execution_count": 315,
   "id": "0994628e",
   "metadata": {},
   "outputs": [
    {
     "data": {
      "text/plain": [
       "6"
      ]
     },
     "execution_count": 315,
     "metadata": {},
     "output_type": "execute_result"
    }
   ],
   "source": [
    "Products_Description=[]\n",
    "pd=driver.find_elements(By.XPATH,\"//div[@class='rh_gr_top_middle mb10 colored_rate_bar']\")\n",
    "len(pd)"
   ]
  },
  {
   "cell_type": "code",
   "execution_count": 316,
   "id": "afcbd6be",
   "metadata": {},
   "outputs": [
    {
     "data": {
      "text/plain": [
       "['Apple MacBook Air 2022 M2 MLY03HN/A',\n",
       " 'Samsung Galaxy Book3 Pro 360Specs Score7/10',\n",
       " 'Lenovo Yoga 9i13th Gen Core i7-1360P',\n",
       " 'Apple MacBook Pro M2 (2023-MPHK3HN/A)',\n",
       " 'Dell XPS 13 Plus D560075WIN9S 12th Gen Core i7-1260P',\n",
       " 'Acer Swift X SFX16-51G 11th Gen Core i7-11390H']"
      ]
     },
     "execution_count": 316,
     "metadata": {},
     "output_type": "execute_result"
    }
   ],
   "source": [
    "for i in pd:\n",
    "   \n",
    "    Products_Description.append(str(i.text).replace(\"\\n\",\"\"))\n",
    "Products_Description"
   ]
  },
  {
   "cell_type": "code",
   "execution_count": 320,
   "id": "8cf5b82c",
   "metadata": {},
   "outputs": [
    {
     "data": {
      "text/html": [
       "<div>\n",
       "<style scoped>\n",
       "    .dataframe tbody tr th:only-of-type {\n",
       "        vertical-align: middle;\n",
       "    }\n",
       "\n",
       "    .dataframe tbody tr th {\n",
       "        vertical-align: top;\n",
       "    }\n",
       "\n",
       "    .dataframe thead th {\n",
       "        text-align: right;\n",
       "    }\n",
       "</style>\n",
       "<table border=\"1\" class=\"dataframe\">\n",
       "  <thead>\n",
       "    <tr style=\"text-align: right;\">\n",
       "      <th></th>\n",
       "      <th>Products Description</th>\n",
       "    </tr>\n",
       "  </thead>\n",
       "  <tbody>\n",
       "    <tr>\n",
       "      <th>0</th>\n",
       "      <td>Apple MacBook Air 2022 M2 MLY03HN/A</td>\n",
       "    </tr>\n",
       "    <tr>\n",
       "      <th>1</th>\n",
       "      <td>Samsung Galaxy Book3 Pro 360Specs Score7/10</td>\n",
       "    </tr>\n",
       "    <tr>\n",
       "      <th>2</th>\n",
       "      <td>Lenovo Yoga 9i13th Gen Core i7-1360P</td>\n",
       "    </tr>\n",
       "    <tr>\n",
       "      <th>3</th>\n",
       "      <td>Apple MacBook Pro M2 (2023-MPHK3HN/A)</td>\n",
       "    </tr>\n",
       "    <tr>\n",
       "      <th>4</th>\n",
       "      <td>Dell XPS 13 Plus D560075WIN9S 12th Gen Core i7...</td>\n",
       "    </tr>\n",
       "    <tr>\n",
       "      <th>5</th>\n",
       "      <td>Acer Swift X SFX16-51G 11th Gen Core i7-11390H</td>\n",
       "    </tr>\n",
       "  </tbody>\n",
       "</table>\n",
       "</div>"
      ],
      "text/plain": [
       "                                Products Description\n",
       "0                Apple MacBook Air 2022 M2 MLY03HN/A\n",
       "1        Samsung Galaxy Book3 Pro 360Specs Score7/10\n",
       "2               Lenovo Yoga 9i13th Gen Core i7-1360P\n",
       "3              Apple MacBook Pro M2 (2023-MPHK3HN/A)\n",
       "4  Dell XPS 13 Plus D560075WIN9S 12th Gen Core i7...\n",
       "5     Acer Swift X SFX16-51G 11th Gen Core i7-11390H"
      ]
     },
     "execution_count": 320,
     "metadata": {},
     "output_type": "execute_result"
    }
   ],
   "source": [
    "df=pd.DataFrame({'Products Description':Products_Description})\n",
    "df"
   ]
  },
  {
   "cell_type": "code",
   "execution_count": 321,
   "id": "0fbd9072",
   "metadata": {},
   "outputs": [],
   "source": [
    "driver.close()"
   ]
  },
  {
   "cell_type": "markdown",
   "id": "0d7dadcd",
   "metadata": {},
   "source": [
    "7. Write a python program to scrape the details for all billionaires from www.forbes.com. Details to be scrapped: “Rank”, “Name”, “Net worth”, “Age”, “Citizenship”, “Source”, “Industry”."
   ]
  },
  {
   "cell_type": "code",
   "execution_count": 375,
   "id": "61ea78d6",
   "metadata": {},
   "outputs": [],
   "source": [
    "driver = webdriver.Chrome()"
   ]
  },
  {
   "cell_type": "code",
   "execution_count": 376,
   "id": "524f63c9",
   "metadata": {},
   "outputs": [],
   "source": [
    "\n",
    "# URL of the Forbes Billionaires list\n",
    "url = 'https://www.forbes.com/billionaires/'\n",
    "\n",
    "# Open the Forbes Billionaires list page\n",
    "driver.get(url)\n",
    "\n",
    "# Function to scrape billionaire details\n",
    "def scrape_billionaires():\n",
    "    billionaires_data = []\n",
    "\n",
    "    while True:\n",
    "        rows = driver.find_elements(By.XPATH, \"//div[@class='rank']\")\n",
    "        for row in rows:\n",
    "            data = {\n",
    "                'Rank': row.find_element(By.CLASS_NAME, \"rank\").text,\n",
    "                'Name': row.find_element(By.CLASS_NAME, \"personName\").text,\n",
    "                'Net worth': row.find_element(By.CLASS_NAME, \"netWorth\").text,\n",
    "                'Age': row.find_element(By.CLASS_NAME, \"age\").text,\n",
    "                'Citizenship': row.find_element(By.CLASS_NAME, \"countryOfCitizenship\").text,\n",
    "                'Source': row.find_element(By.CLASS_NAME, \"source\").text,\n",
    "                'Industry': row.find_element(By.CLASS_NAME, \"category\").text\n",
    "            }\n",
    "            billionaires_data.append(data)\n",
    "\n",
    "        try:\n",
    "            next_button = driver.find_element(By.XPATH, \"//button[contains(@class, 'pagination__next')]\")\n",
    "            if 'disabled' in next_button.get_attribute('class'):\n",
    "                break\n",
    "            else:\n",
    "                next_button.click()\n",
    "        except:\n",
    "            break\n",
    "\n",
    "    return billionaires_data\n",
    "\n",
    "# Scrape the billionaire details\n",
    "billionaires_info = scrape_billionaires()\n",
    "\n",
    "# Print the details of the first 5 billionaires as an example\n",
    "for idx, billionaire in enumerate(billionaires_info[:5], start=1):\n",
    "    print(f\"Billionaire {idx}: {billionaire}\")\n",
    "# Close the WebDriver\n",
    "driver.quit()"
   ]
  },
  {
   "cell_type": "markdown",
   "id": "b34f28ca",
   "metadata": {},
   "source": [
    "9. Write a python program to scrape a data for all available Hostels from https://www.hostelworld.com/ in “London” location. You have to scrape hostel name, distance from city centre, ratings, total reviews, overall reviews, privates from price, dorms from price, facilities and property description."
   ]
  },
  {
   "cell_type": "code",
   "execution_count": 368,
   "id": "26798765",
   "metadata": {},
   "outputs": [],
   "source": [
    "# Opening the naukri page on automated chrome browser\n",
    "driver = webdriver.Chrome()\n",
    "driver.get(\"https://www.hostelworld.com/pwa/wds/s?q=London,%20England&country=London&city=London&type=city&id=3&from=2023-11-16&to=2023-11-19&guests=2&page=1\")"
   ]
  },
  {
   "cell_type": "code",
   "execution_count": 369,
   "id": "677b30fe",
   "metadata": {},
   "outputs": [],
   "source": [
    "driver.maximize_window()"
   ]
  },
  {
   "cell_type": "code",
   "execution_count": 370,
   "id": "bed4b84e",
   "metadata": {},
   "outputs": [],
   "source": [
    "Name=[]\n",
    "Distance=[]\n",
    "T_Review=[]\n",
    "O_Review=[]\n",
    "Ratings=[]\n",
    "P_Price=[]\n",
    "D_Price=[]"
   ]
  },
  {
   "cell_type": "code",
   "execution_count": 371,
   "id": "4e002149",
   "metadata": {},
   "outputs": [],
   "source": [
    "start=0\n",
    "end=3\n",
    "for page in range(start,end):\n",
    "\n",
    "    name_tag=driver.find_elements(By.XPATH,'//div[@class=\"property-name\"]')\n",
    "    for p in name_tag:\n",
    "        Name.append(p.text)\n",
    "        \n",
    "    distance_tag=driver.find_elements(By.XPATH,'//div[@class=\"distance-description\"]')\n",
    "    for p in distance_tag:\n",
    "        Distance.append(p.text)\n",
    "        \n",
    "    t_review_tag=driver.find_elements(By.XPATH,'//div[@class=\"number\"]')\n",
    "    for p in t_review_tag:\n",
    "        T_Review.append(p.text)\n",
    "        \n",
    "    o_review_tag=driver.find_elements(By.XPATH,'//div[@class=\"left-margin\"]')\n",
    "    for p in o_review_tag:\n",
    "        O_Review.append(p.text)\n",
    "        \n",
    "    rating_tag=driver.find_elements(By.XPATH,'//a[@class=\"IRpwTa\"]')\n",
    "    for q in rating_tag:\n",
    "        Ratings.append(q.text)\n",
    "        \n",
    "    p_price_tag=driver.find_elements(By.XPATH,'//div[@class=\"accommodation-price\"]')   \n",
    "    for r in p_price_tag:\n",
    "        P_Price.append(r.text)\n",
    "        \n",
    "    d_price_tag=driver.find_elements(By.XPATH,'//div[@class=\"accommodation-price\"]')   \n",
    "    for r in d_price_tag:\n",
    "        D_Price.append(r.text)\n",
    "    time.sleep(3)"
   ]
  },
  {
   "cell_type": "code",
   "execution_count": 372,
   "id": "e72a3c0c",
   "metadata": {},
   "outputs": [
    {
     "name": "stdout",
     "output_type": "stream",
     "text": [
      "96 0 0 0 0 117 117\n"
     ]
    }
   ],
   "source": [
    "print(len(Name),len(Distance),len(T_Review),len(O_Review),len(Ratings),len(P_Price),len(D_Price))"
   ]
  },
  {
   "cell_type": "code",
   "execution_count": 373,
   "id": "e8172412",
   "metadata": {},
   "outputs": [],
   "source": [
    "Name=Name[0:90]\n",
    "P_Price=P_Price[0:90]\n",
    "D_Price=D_Price[0:90]"
   ]
  },
  {
   "cell_type": "code",
   "execution_count": 374,
   "id": "3f2fc0d9",
   "metadata": {},
   "outputs": [
    {
     "data": {
      "text/html": [
       "<div>\n",
       "<style scoped>\n",
       "    .dataframe tbody tr th:only-of-type {\n",
       "        vertical-align: middle;\n",
       "    }\n",
       "\n",
       "    .dataframe tbody tr th {\n",
       "        vertical-align: top;\n",
       "    }\n",
       "\n",
       "    .dataframe thead th {\n",
       "        text-align: right;\n",
       "    }\n",
       "</style>\n",
       "<table border=\"1\" class=\"dataframe\">\n",
       "  <thead>\n",
       "    <tr style=\"text-align: right;\">\n",
       "      <th></th>\n",
       "      <th>Name</th>\n",
       "      <th>P_Price</th>\n",
       "      <th>D_Price</th>\n",
       "    </tr>\n",
       "  </thead>\n",
       "  <tbody>\n",
       "    <tr>\n",
       "      <th>0</th>\n",
       "      <td>St Christopher's Village</td>\n",
       "      <td>₹3,150</td>\n",
       "      <td>₹3,150</td>\n",
       "    </tr>\n",
       "    <tr>\n",
       "      <th>1</th>\n",
       "      <td>Palmers Lodge - Swiss Cottage</td>\n",
       "      <td>₹3,189</td>\n",
       "      <td>₹3,189</td>\n",
       "    </tr>\n",
       "    <tr>\n",
       "      <th>2</th>\n",
       "      <td>Onefam Notting Hill</td>\n",
       "      <td>₹25,932</td>\n",
       "      <td>₹25,932</td>\n",
       "    </tr>\n",
       "    <tr>\n",
       "      <th>3</th>\n",
       "      <td>Urbany Hostel London</td>\n",
       "      <td>₹7,982</td>\n",
       "      <td>₹7,982</td>\n",
       "    </tr>\n",
       "    <tr>\n",
       "      <th>4</th>\n",
       "      <td>St Christopher's Village</td>\n",
       "      <td>₹20,011</td>\n",
       "      <td>₹20,011</td>\n",
       "    </tr>\n",
       "    <tr>\n",
       "      <th>...</th>\n",
       "      <td>...</td>\n",
       "      <td>...</td>\n",
       "      <td>...</td>\n",
       "    </tr>\n",
       "    <tr>\n",
       "      <th>85</th>\n",
       "      <td>Saint James Backpackers</td>\n",
       "      <td>₹3,500\\n₹3,150</td>\n",
       "      <td>₹3,500\\n₹3,150</td>\n",
       "    </tr>\n",
       "    <tr>\n",
       "      <th>86</th>\n",
       "      <td>St Christopher's Inn - London Bridge</td>\n",
       "      <td>₹22,678\\n₹14,514</td>\n",
       "      <td>₹22,678\\n₹14,514</td>\n",
       "    </tr>\n",
       "    <tr>\n",
       "      <th>87</th>\n",
       "      <td>Astor Kensington</td>\n",
       "      <td>₹4,982\\n₹3,189</td>\n",
       "      <td>₹4,982\\n₹3,189</td>\n",
       "    </tr>\n",
       "    <tr>\n",
       "      <th>88</th>\n",
       "      <td>Book a Bed Hostels</td>\n",
       "      <td>₹17,311</td>\n",
       "      <td>₹17,311</td>\n",
       "    </tr>\n",
       "    <tr>\n",
       "      <th>89</th>\n",
       "      <td>St Christopher's Greenwich</td>\n",
       "      <td>₹21,674</td>\n",
       "      <td>₹21,674</td>\n",
       "    </tr>\n",
       "  </tbody>\n",
       "</table>\n",
       "<p>90 rows × 3 columns</p>\n",
       "</div>"
      ],
      "text/plain": [
       "                                    Name           P_Price           D_Price\n",
       "0               St Christopher's Village            ₹3,150            ₹3,150\n",
       "1          Palmers Lodge - Swiss Cottage            ₹3,189            ₹3,189\n",
       "2                    Onefam Notting Hill           ₹25,932           ₹25,932\n",
       "3                   Urbany Hostel London            ₹7,982            ₹7,982\n",
       "4               St Christopher's Village           ₹20,011           ₹20,011\n",
       "..                                   ...               ...               ...\n",
       "85               Saint James Backpackers    ₹3,500\\n₹3,150    ₹3,500\\n₹3,150\n",
       "86  St Christopher's Inn - London Bridge  ₹22,678\\n₹14,514  ₹22,678\\n₹14,514\n",
       "87                      Astor Kensington    ₹4,982\\n₹3,189    ₹4,982\\n₹3,189\n",
       "88                    Book a Bed Hostels           ₹17,311           ₹17,311\n",
       "89            St Christopher's Greenwich           ₹21,674           ₹21,674\n",
       "\n",
       "[90 rows x 3 columns]"
      ]
     },
     "execution_count": 374,
     "metadata": {},
     "output_type": "execute_result"
    }
   ],
   "source": [
    "df=pd.DataFrame({'Name':Name,'P_Price':P_Price,'D_Price':D_Price})\n",
    "df"
   ]
  },
  {
   "cell_type": "code",
   "execution_count": null,
   "id": "0816f31b",
   "metadata": {},
   "outputs": [],
   "source": [
    "Thankyou"
   ]
  },
  {
   "cell_type": "code",
   "execution_count": null,
   "id": "4bde9e0c",
   "metadata": {},
   "outputs": [],
   "source": []
  },
  {
   "cell_type": "code",
   "execution_count": null,
   "id": "facd6d58",
   "metadata": {},
   "outputs": [],
   "source": []
  }
 ],
 "metadata": {
  "kernelspec": {
   "display_name": "Python 3 (ipykernel)",
   "language": "python",
   "name": "python3"
  },
  "language_info": {
   "codemirror_mode": {
    "name": "ipython",
    "version": 3
   },
   "file_extension": ".py",
   "mimetype": "text/x-python",
   "name": "python",
   "nbconvert_exporter": "python",
   "pygments_lexer": "ipython3",
   "version": "3.11.5"
  }
 },
 "nbformat": 4,
 "nbformat_minor": 5
}
